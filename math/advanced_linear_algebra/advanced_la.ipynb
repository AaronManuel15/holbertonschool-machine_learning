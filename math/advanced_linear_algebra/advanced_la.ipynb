{
 "cells": [
  {
   "attachments": {},
   "cell_type": "markdown",
   "metadata": {},
   "source": [
    "## Task 0"
   ]
  },
  {
   "cell_type": "code",
   "execution_count": 1,
   "metadata": {},
   "outputs": [],
   "source": [
    "\"\"\"Task 0: Determinant\"\"\"\n",
    "\n",
    "def get_matrix_minor(m, i, j):\n",
    "    return [row[:j] + row[j+1:] for row in (m[:i]+m[i+1:])]\n",
    "\n",
    "def determinant(matrix):\n",
    "    \"\"\"Calculates the determinant of a matrix\n",
    "    Args:\n",
    "        matrix (list): matrix to calculate\"\"\"\n",
    "    if type(matrix) is not list or len(matrix) == 0:\n",
    "        raise TypeError(\"matrix must be a list of lists\")\n",
    "    if len(matrix) == 1 and len(matrix[0]) == 0:\n",
    "        return 1\n",
    "    for i in range(len(matrix)):\n",
    "        if type(matrix[i]) is not list:\n",
    "            raise TypeError(\"matrix must be a list of lists\")\n",
    "        if len(matrix) != len(matrix[i]):\n",
    "            raise ValueError(\"matrix must be a square matrix\")\n",
    "    if len(matrix) == 1 and len(matrix[0]) == 1:\n",
    "        return matrix[0][0]\n",
    "    if len(matrix) == 2 and len(matrix[0]) == 2:\n",
    "        return matrix[0][0] * matrix[1][1] - matrix[0][1] * matrix[1][0]\n",
    "    det = 0\n",
    "    for i, k in enumerate(matrix[0]):\n",
    "        rows = [row for row in matrix[1:]]\n",
    "        new_m = [[row[n] for n in range(len(matrix)) if n != i]\n",
    "                 for row in rows]\n",
    "        det += k * (-1) ** i * determinant(new_m)\n",
    "    return det\n"
   ]
  },
  {
   "cell_type": "code",
   "execution_count": 2,
   "metadata": {},
   "outputs": [
    {
     "name": "stdout",
     "output_type": "stream",
     "text": [
      "1\n"
     ]
    }
   ],
   "source": [
    "mat = [[]]\n",
    "print(determinant(mat))"
   ]
  },
  {
   "cell_type": "markdown",
   "metadata": {},
   "source": [
    "## Task 1"
   ]
  },
  {
   "cell_type": "code",
   "execution_count": 2,
   "metadata": {},
   "outputs": [],
   "source": [
    "def minor(matrix):\n",
    "    \"\"\"Calculates the minor matrix of a matrix\n",
    "    Args:\n",
    "        matrix (list): matrix to calculate\"\"\"\n",
    "    if type(matrix) is not list or len(matrix) == 0:\n",
    "        raise TypeError(\"matrix must be a list of lists\")\n",
    "    for i in range(len(matrix)):\n",
    "        if type(matrix[i]) is not list:\n",
    "            raise TypeError(\"matrix must be a list of lists\")\n",
    "        if len(matrix) != len(matrix[i]):\n",
    "            raise ValueError(\"matrix must be a non-empty square matrix\")\n",
    "    if len(matrix) == 1:\n",
    "        return [[1]]\n",
    "    return [[determinant(get_matrix_minor(matrix, i, j))\n",
    "             for j in range(len(matrix[0]))]\n",
    "            for i in range(len(matrix))]"
   ]
  },
  {
   "cell_type": "code",
   "execution_count": 3,
   "metadata": {},
   "outputs": [
    {
     "name": "stdout",
     "output_type": "stream",
     "text": [
      "matrix must be a non-empty square matrix\n",
      "matrix must be a non-empty square matrix\n",
      "matrix must be a non-empty square matrix\n",
      "matrix must be a non-empty square matrix\n"
     ]
    }
   ],
   "source": [
    "try:\n",
    "    minor([[]])\n",
    "except ValueError as e:\n",
    "    print(str(e))\n",
    "try:\n",
    "    minor([[1], [1]])\n",
    "except ValueError as e:\n",
    "    print(str(e))\n",
    "try:\n",
    "    minor([[1, 2, 3, 4], [1, 2, 3, 4], [1, 2, 3, 4]])\n",
    "except ValueError as e:\n",
    "    print(str(e))\n",
    "try:\n",
    "    minor([[1, 2, 3], [1, 2, 3, 4], [1, 2, 3]])\n",
    "except ValueError as e:\n",
    "    print(str(e))"
   ]
  },
  {
   "attachments": {},
   "cell_type": "markdown",
   "metadata": {},
   "source": [
    "### Task 2"
   ]
  },
  {
   "cell_type": "code",
   "execution_count": 3,
   "metadata": {},
   "outputs": [],
   "source": [
    "def cofactor(matrix):\n",
    "    \"\"\"Calculates the cofactor of a matrix\n",
    "    Args:\n",
    "        matrix (list): matrix to calculate\"\"\"\n",
    "    if type(matrix) is not list or len(matrix) == 0:\n",
    "        raise TypeError(\"matrix must be a list of lists\")\n",
    "    for i in range(len(matrix)):\n",
    "        if type(matrix[i]) is not list:\n",
    "            raise TypeError(\"matrix must be a list of lists\")\n",
    "        if len(matrix) != len(matrix[i]):\n",
    "            raise ValueError(\"matrix must be a non-empty square matrix\")\n",
    "    if len(matrix) == 1:\n",
    "        return [[1]]\n",
    "    return [[(-1)**(i+j) * determinant(get_matrix_minor(matrix, i, j))\n",
    "             for j in range(len(matrix[0]))]\n",
    "            for i in range(len(matrix))]"
   ]
  },
  {
   "cell_type": "code",
   "execution_count": 4,
   "metadata": {},
   "outputs": [
    {
     "name": "stdout",
     "output_type": "stream",
     "text": [
      "[[1]]\n",
      "[[4, -3], [-2, 1]]\n",
      "[[1, -1], [-1, 1]]\n",
      "[[-12, 36, 0], [-10, -34, 32], [47, -13, -16]]\n",
      "matrix must be a list of lists\n",
      "matrix must be a non-empty square matrix\n"
     ]
    }
   ],
   "source": [
    "mat1 = [[5]]\n",
    "mat2 = [[1, 2], [3, 4]]\n",
    "mat3 = [[1, 1], [1, 1]]\n",
    "mat4 = [[5, 7, 9], [3, 1, 8], [6, 2, 4]]\n",
    "mat5 = []\n",
    "mat6 = [[1, 2, 3], [4, 5, 6]]\n",
    "print(cofactor(mat1))\n",
    "print(cofactor(mat2))\n",
    "print(cofactor(mat3))\n",
    "print(cofactor(mat4))\n",
    "try:\n",
    "    cofactor(mat5)\n",
    "except Exception as e:\n",
    "    print(e)\n",
    "try:\n",
    "    cofactor(mat6)\n",
    "except Exception as e:\n",
    "    print(e)"
   ]
  },
  {
   "attachments": {},
   "cell_type": "markdown",
   "metadata": {},
   "source": [
    "## Task 3"
   ]
  },
  {
   "cell_type": "code",
   "execution_count": 11,
   "metadata": {},
   "outputs": [],
   "source": [
    "def adjugate(matrix):\n",
    "    \"\"\"Calculates the adjugate matrix of a matrix\"\"\"\n",
    "    return [list(i) for i in zip(*cofactor(matrix))]"
   ]
  },
  {
   "cell_type": "code",
   "execution_count": 12,
   "metadata": {},
   "outputs": [
    {
     "name": "stdout",
     "output_type": "stream",
     "text": [
      "[[1]]\n",
      "[[4, -2], [-3, 1]]\n",
      "[[1, -1], [-1, 1]]\n",
      "[[-12, -10, 47], [36, -34, -13], [0, 32, -16]]\n",
      "matrix must be a list of lists\n",
      "matrix must be a non-empty square matrix\n"
     ]
    }
   ],
   "source": [
    "mat1 = [[5]]\n",
    "mat2 = [[1, 2], [3, 4]]\n",
    "mat3 = [[1, 1], [1, 1]]\n",
    "mat4 = [[5, 7, 9], [3, 1, 8], [6, 2, 4]]\n",
    "mat5 = []\n",
    "mat6 = [[1, 2, 3], [4, 5, 6]]\n",
    "print(adjugate(mat1))\n",
    "print(adjugate(mat2))\n",
    "print(adjugate(mat3))\n",
    "print(adjugate(mat4))\n",
    "try:\n",
    "    adjugate(mat5)\n",
    "except Exception as e:\n",
    "    print(e)\n",
    "try:\n",
    "    adjugate(mat6)\n",
    "except Exception as e:\n",
    "    print(e)"
   ]
  },
  {
   "attachments": {},
   "cell_type": "markdown",
   "metadata": {},
   "source": [
    "## Task 4"
   ]
  },
  {
   "cell_type": "code",
   "execution_count": 15,
   "metadata": {},
   "outputs": [],
   "source": [
    "def inverse(matrix):\n",
    "    \"\"\"Calculates the inverse of a matrix\"\"\"\n",
    "    for i in range(len(matrix)):\n",
    "        if type(matrix[i]) is not list:\n",
    "            raise TypeError(\"matrix must be a list of lists\")\n",
    "        if len(matrix) != len(matrix[i]):\n",
    "            raise ValueError(\"matrix must be a non-empty square matrix\")\n",
    "    if determinant(matrix) == 0:\n",
    "        return None\n",
    "    return [[i / determinant(matrix) for i in j] for j in adjugate(matrix)]"
   ]
  },
  {
   "cell_type": "code",
   "execution_count": 16,
   "metadata": {},
   "outputs": [
    {
     "name": "stdout",
     "output_type": "stream",
     "text": [
      "matrix must be a non-empty square matrix\n",
      "matrix must be a non-empty square matrix\n",
      "matrix must be a non-empty square matrix\n",
      "matrix must be a non-empty square matrix\n"
     ]
    }
   ],
   "source": [
    "try:\n",
    "    inverse([[]])\n",
    "except ValueError as e:\n",
    "    print(str(e))\n",
    "try:\n",
    "    inverse([[1], [1]])\n",
    "except ValueError as e:\n",
    "    print(str(e))\n",
    "try:\n",
    "    inverse([[1, 2, 3, 4], [1, 2, 3, 4], [1, 2, 3, 4]])\n",
    "except ValueError as e:\n",
    "    print(str(e))\n",
    "try:\n",
    "    inverse([[1, 2, 3], [1, 2, 3, 4], [1, 2, 3]])\n",
    "except ValueError as e:\n",
    "    print(str(e))"
   ]
  },
  {
   "attachments": {},
   "cell_type": "markdown",
   "metadata": {},
   "source": [
    "## Task 5"
   ]
  },
  {
   "cell_type": "code",
   "execution_count": 29,
   "metadata": {},
   "outputs": [],
   "source": [
    "import numpy as np\n",
    "\n",
    "def definiteness(matrix):\n",
    "    \"\"\"Calculates the definiteness of a matrix\"\"\"\n",
    "    if type(matrix) is not np.ndarray:\n",
    "        raise TypeError(\"matrix must be a numpy.ndarray\")\n",
    "    # if len(matrix.shape) == 1:\n",
    "    #     return None\n",
    "    if len(matrix.shape) == 2 and matrix.shape[0] != matrix.shape[1] or \\\n",
    "            len(matrix.shape) != 2:\n",
    "        return None\n",
    "    if np.allclose(matrix, matrix.T) is False:\n",
    "        return None\n",
    "    if np.all(np.linalg.eigvals(matrix) > 0):\n",
    "        return \"Positive definite\"\n",
    "    if np.all(np.linalg.eigvals(matrix) >= 0):\n",
    "        return \"Positive semi-definite\"\n",
    "    if np.all(np.linalg.eigvals(matrix) < 0):\n",
    "        return \"Negative definite\"\n",
    "    if np.all(np.linalg.eigvals(matrix) <= 0):\n",
    "        return \"Negative semi-definite\"\n",
    "    return \"Indefinite\""
   ]
  },
  {
   "cell_type": "code",
   "execution_count": 30,
   "metadata": {},
   "outputs": [
    {
     "name": "stdout",
     "output_type": "stream",
     "text": [
      "Positive definite\n",
      "Positive semi-definite\n",
      "Negative semi-definite\n",
      "Negative definite\n",
      "Indefinite\n",
      "None\n",
      "None\n",
      "matrix must be a numpy.ndarray\n"
     ]
    }
   ],
   "source": [
    "mat1 = np.array([[5, 1], [1, 1]])\n",
    "mat2 = np.array([[2, 4], [4, 8]])\n",
    "mat3 = np.array([[-1, 1], [1, -1]])\n",
    "mat4 = np.array([[-2, 4], [4, -9]])\n",
    "mat5 = np.array([[1, 2], [2, 1]])\n",
    "mat6 = np.array([])\n",
    "mat7 = np.array([[1, 2, 3], [4, 5, 6]])\n",
    "mat8 = [[1, 2], [1, 2]]\n",
    "print(definiteness(mat1))\n",
    "print(definiteness(mat2))\n",
    "print(definiteness(mat3))\n",
    "print(definiteness(mat4))\n",
    "print(definiteness(mat5))\n",
    "print(definiteness(mat6))\n",
    "print(definiteness(mat7))\n",
    "try:\n",
    "    definiteness(mat8)\n",
    "except Exception as e:\n",
    "    print(e)"
   ]
  }
 ],
 "metadata": {
  "kernelspec": {
   "display_name": "Python 3",
   "language": "python",
   "name": "python3"
  },
  "language_info": {
   "codemirror_mode": {
    "name": "ipython",
    "version": 3
   },
   "file_extension": ".py",
   "mimetype": "text/x-python",
   "name": "python",
   "nbconvert_exporter": "python",
   "pygments_lexer": "ipython3",
   "version": "3.8.10"
  },
  "orig_nbformat": 4
 },
 "nbformat": 4,
 "nbformat_minor": 2
}
