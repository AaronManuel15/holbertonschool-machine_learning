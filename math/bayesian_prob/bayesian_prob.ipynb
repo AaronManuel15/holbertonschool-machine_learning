{
 "cells": [
  {
   "cell_type": "code",
   "execution_count": 1,
   "metadata": {},
   "outputs": [],
   "source": [
    "import numpy as np"
   ]
  },
  {
   "attachments": {},
   "cell_type": "markdown",
   "metadata": {},
   "source": [
    "## Task 0: Likelihood"
   ]
  },
  {
   "cell_type": "code",
   "execution_count": 9,
   "metadata": {},
   "outputs": [],
   "source": [
    "\"\"\"Task 0: Likelihood\"\"\"\n",
    "\n",
    "\n",
    "def likelihood(x, n, P):\n",
    "    \"\"\"Calculates the likelihood of obtaining this data given various\n",
    "    hypothetical probabilities of developing severe side effects.\n",
    "    Args:\n",
    "        x: number of patients that develop severe side effects\n",
    "        n: total number of patients observed\n",
    "        P: 1D numpy.ndarray containing the various hypothetical probabilities\n",
    "            of developing severe side effects\"\"\"\n",
    "    if type(n) is not int or n <= 0:\n",
    "        raise ValueError(\"n must be a positive integer\")\n",
    "    if type(x) is not int or x < 0:\n",
    "        raise ValueError(\"x must be an integer that is greater than or equal\" +\n",
    "                         \" to 0\")\n",
    "    if x > n:\n",
    "        raise ValueError(\"x cannot be greater than n\")\n",
    "    if type(P) is not np.ndarray or len(P.shape) != 1:\n",
    "        raise TypeError(\"P must be a 1D numpy.ndarray\")\n",
    "    if min(P) < 0 or max(P) > 1:\n",
    "        raise ValueError(\"All values in P must be in the range [0, 1],\")\n",
    "    fact = np.math.factorial\n",
    "    comb = fact(n) / (fact(x) * fact(n - x))\n",
    "    return comb * (P ** x) * ((1 - P) ** (n - x))"
   ]
  },
  {
   "cell_type": "code",
   "execution_count": 17,
   "metadata": {},
   "outputs": [],
   "source": [
    "\"\"\"Task 1: Intersection\"\"\"\n",
    "\n",
    "\n",
    "def intersection(x, n, P, Pr):\n",
    "    \"\"\"Calculates the likelihood of obtaining this data given various\n",
    "    hypothetical probabilities of developing severe side effects.\n",
    "    Args:\n",
    "        x: number of patients that develop severe side effects\n",
    "        n: total number of patients observed\n",
    "        P: 1D numpy.ndarray containing the various hypothetical probabilities\n",
    "            of developing severe side effects\n",
    "        Pr: 1D numpy.ndarray containing the prior beliefs of P\"\"\"\n",
    "    if type(n) is not int or n <= 0:\n",
    "        raise ValueError(\"n must be a positive integer\")\n",
    "    if type(x) is not int or x < 0:\n",
    "        raise ValueError(\"x must be an integer that is greater than or equal\" +\n",
    "                         \" to 0\")\n",
    "    if x > n:\n",
    "        raise ValueError(\"x cannot be greater than n\")\n",
    "    if type(P) is not np.ndarray or len(P.shape) != 1:\n",
    "        raise TypeError(\"P must be a 1D numpy.ndarray\")\n",
    "    if type(Pr) is not np.ndarray or P.shape != Pr.shape:\n",
    "        raise TypeError(\"Pr must be a numpy.ndarray with the same shape as P\")\n",
    "    if min(P) < 0 or max(P) > 1:\n",
    "        raise ValueError(\"All values in P must be in the range [0, 1]\")\n",
    "    if min(Pr) < 0 or max(Pr) > 1:\n",
    "        raise ValueError(\"All values in Pr must be in the range [0, 1]\")\n",
    "    if not np.isclose(sum(Pr), 1):\n",
    "        raise ValueError(\"Pr must sum to 1\")\n",
    "    fact = np.math.factorial\n",
    "    comb = fact(n) / (fact(x) * fact(n - x))\n",
    "    return Pr * comb * (P ** x) * ((1 - P) ** (n - x))"
   ]
  },
  {
   "cell_type": "code",
   "execution_count": 20,
   "metadata": {},
   "outputs": [],
   "source": [
    "\"\"\"Task 2: Marginal Probability\"\"\"\n",
    "\n",
    "\n",
    "def marginal(x, n, P, Pr):\n",
    "    \"\"\"Calculates the marginal probability of obtaining the data.\n",
    "    Args:\n",
    "        x: number of patients that develop severe side effects\n",
    "        n: total number of patients observed\n",
    "        P: 1D numpy.ndarray containing the various hypothetical probabilities\n",
    "            of developing severe side effects\n",
    "        Pr: 1D numpy.ndarray containing the prior beliefs of P\"\"\"\n",
    "    if type(n) is not int or n <= 0:\n",
    "        raise ValueError(\"n must be a positive integer\")\n",
    "    if type(x) is not int or x < 0:\n",
    "        raise ValueError(\"x must be an integer that is greater than or equal\" +\n",
    "                         \" to 0\")\n",
    "    if x > n:\n",
    "        raise ValueError(\"x cannot be greater than n\")\n",
    "    if type(P) is not np.ndarray or len(P.shape) != 1:\n",
    "        raise TypeError(\"P must be a 1D numpy.ndarray\")\n",
    "    if type(Pr) is not np.ndarray or P.shape != Pr.shape:\n",
    "        raise TypeError(\"Pr must be a numpy.ndarray with the same shape as P\")\n",
    "    if min(P) < 0 or max(P) > 1:\n",
    "        raise ValueError(\"All values in P must be in the range [0, 1]\")\n",
    "    if min(Pr) < 0 or max(Pr) > 1:\n",
    "        raise ValueError(\"All values in Pr must be in the range [0, 1]\")\n",
    "    if not np.isclose(sum(Pr), 1):\n",
    "        raise ValueError(\"Pr must sum to 1\")\n",
    "    fact = np.math.factorial\n",
    "    comb = fact(n) / (fact(x) * fact(n - x))\n",
    "    return np.sum(comb * (P ** x) * ((1 - P) ** (n - x)) * Pr)"
   ]
  },
  {
   "cell_type": "code",
   "execution_count": 22,
   "metadata": {},
   "outputs": [],
   "source": [
    "\"\"\"Task 3: Posterior\"\"\"\n",
    "\n",
    "\n",
    "def posterior(x, n, P, Pr):\n",
    "    \"\"\"Calculates the posterior probability of obtaining the data.\n",
    "    Args:\n",
    "        x: number of patients that develop severe side effects\n",
    "        n: total number of patients observed\n",
    "        P: 1D numpy.ndarray containing the various hypothetical probabilities\n",
    "            of developing severe side effects\n",
    "        Pr: 1D numpy.ndarray containing the prior beliefs of P\"\"\"\n",
    "    if type(n) is not int or n <= 0:\n",
    "        raise ValueError(\"n must be a positive integer\")\n",
    "    if type(x) is not int or x < 0:\n",
    "        raise ValueError(\"x must be an integer that is greater than or equal\" +\n",
    "                         \" to 0\")\n",
    "    if x > n:\n",
    "        raise ValueError(\"x cannot be greater than n\")\n",
    "    if type(P) is not np.ndarray or len(P.shape) != 1:\n",
    "        raise TypeError(\"P must be a 1D numpy.ndarray\")\n",
    "    if type(Pr) is not np.ndarray or P.shape != Pr.shape:\n",
    "        raise TypeError(\"Pr must be a numpy.ndarray with the same shape as P\")\n",
    "    if min(P) < 0 or max(P) > 1:\n",
    "        raise ValueError(\"All values in P must be in the range [0, 1]\")\n",
    "    if min(Pr) < 0 or max(Pr) > 1:\n",
    "        raise ValueError(\"All values in Pr must be in the range [0, 1]\")\n",
    "    if not np.isclose(sum(Pr), 1):\n",
    "        raise ValueError(\"Pr must sum to 1\")\n",
    "    fact = np.math.factorial\n",
    "    comb = fact(n) / (fact(x) * fact(n - x))\n",
    "    intersection = comb * (P ** x) * ((1 - P) ** (n - x)) * Pr\n",
    "    return intersection / np.sum(intersection)"
   ]
  },
  {
   "cell_type": "code",
   "execution_count": 23,
   "metadata": {},
   "outputs": [
    {
     "name": "stdout",
     "output_type": "stream",
     "text": [
      "[0.00000000e+00 2.99729127e-03 9.63044824e-01 3.39513268e-02\n",
      " 6.55839819e-06 1.26359684e-11 1.20692303e-19 6.74011797e-31\n",
      " 1.05430721e-47 1.11125368e-77 0.00000000e+00]\n"
     ]
    }
   ],
   "source": [
    "P = np.linspace(0, 1, 11)\n",
    "Pr = np.ones(11) / 11\n",
    "print(posterior(26, 130, P, Pr))"
   ]
  }
 ],
 "metadata": {
  "kernelspec": {
   "display_name": "Python 3",
   "language": "python",
   "name": "python3"
  },
  "language_info": {
   "codemirror_mode": {
    "name": "ipython",
    "version": 3
   },
   "file_extension": ".py",
   "mimetype": "text/x-python",
   "name": "python",
   "nbconvert_exporter": "python",
   "pygments_lexer": "ipython3",
   "version": "3.8.10"
  },
  "orig_nbformat": 4
 },
 "nbformat": 4,
 "nbformat_minor": 2
}
