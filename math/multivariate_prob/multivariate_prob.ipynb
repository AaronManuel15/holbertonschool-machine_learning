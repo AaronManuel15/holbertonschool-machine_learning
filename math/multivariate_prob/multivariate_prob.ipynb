{
 "cells": [
  {
   "cell_type": "code",
   "execution_count": 103,
   "metadata": {},
   "outputs": [],
   "source": [
    "# imports\n",
    "import numpy as np"
   ]
  },
  {
   "attachments": {},
   "cell_type": "markdown",
   "metadata": {},
   "source": [
    "## Task 0: Mean and Covariance"
   ]
  },
  {
   "cell_type": "code",
   "execution_count": 104,
   "metadata": {},
   "outputs": [],
   "source": [
    "def mean_cov(X):\n",
    "    \"\"\"Calculates the mean and covariance of a data set:\n",
    "    Args:\n",
    "        X (np.ndarray): shape of (n, d) where\n",
    "        n is the number of data points\n",
    "        d is the number of dimensions in each data point\"\"\"\n",
    "    if type(X) is not np.ndarray or len(X.shape) != 2:\n",
    "        raise TypeError(\"X must be a 2D numpy.ndarray\")\n",
    "    if X.shape[0] < 2:\n",
    "        raise ValueError(\"X must contain multiple data points\")\n",
    "    mean = np.mean(X, axis=0)[np.newaxis, :]\n",
    "    cov = np.matmul((X - mean).T, (X - mean)) / (X.shape[0] - 1)\n",
    "    return mean, cov\n",
    "    "
   ]
  },
  {
   "attachments": {},
   "cell_type": "markdown",
   "metadata": {},
   "source": [
    "## Task 1: Correlation"
   ]
  },
  {
   "cell_type": "code",
   "execution_count": 105,
   "metadata": {},
   "outputs": [
    {
     "name": "stdout",
     "output_type": "stream",
     "text": [
      "[[12.04341828 29.92870885 10.00515808]]\n",
      "[[ 36.2007391  -29.79405239  15.37992641]\n",
      " [-29.79405239  97.77730626 -20.67970134]\n",
      " [ 15.37992641 -20.67970134  24.93956823]]\n"
     ]
    }
   ],
   "source": [
    "np.random.seed(0)\n",
    "X = np.random.multivariate_normal([12, 30, 10], [[36, -30, 15], [-30, 100, -20], [15, -20, 25]], 10000)\n",
    "mean, cov = mean_cov(X)\n",
    "print(mean)\n",
    "print(cov)"
   ]
  },
  {
   "cell_type": "code",
   "execution_count": 106,
   "metadata": {},
   "outputs": [],
   "source": [
    "def correlation(C):\n",
    "    \"\"\"Calculates a correlation matrix:\n",
    "    Args:\n",
    "        C (np.ndarray): covariance matrix with shape of (d, d) where\n",
    "        d is the number of dimensions\"\"\"\n",
    "    if type(C) is not np.ndarray:\n",
    "        raise TypeError(\"C must be a numpy.ndarray\")\n",
    "    if len(C.shape) != 2 or C.shape[0] != C.shape[1]:\n",
    "        raise ValueError(\"C must be a 2D square matrix\")\n",
    "    var = np.sqrt(np.diag(C))\n",
    "    return np.divide(C, np.outer(var, var))"
   ]
  },
  {
   "cell_type": "code",
   "execution_count": 107,
   "metadata": {},
   "outputs": [
    {
     "name": "stdout",
     "output_type": "stream",
     "text": [
      "C must be a 2D square matrix\n",
      "C must be a 2D square matrix\n"
     ]
    }
   ],
   "source": [
    "try:\n",
    "    correlation(np.array([1, 2, 3, 4]))\n",
    "except ValueError as e:\n",
    "    print(str(e))\n",
    "try:\n",
    "    correlation(np.array([[1, 2, 3, 4], [5, 6, 7, 8]]))\n",
    "except ValueError as e:\n",
    "    print(str(e))"
   ]
  },
  {
   "cell_type": "code",
   "execution_count": 112,
   "metadata": {},
   "outputs": [],
   "source": [
    "class MultiNormal:\n",
    "    \"\"\"Represents a Multivariate Normal distribution\"\"\"\n",
    "    \n",
    "    def __init__(self, data):\n",
    "        \"\"\"constructor\"\"\"\n",
    "        if type(data) is not np.ndarray or len(data.shape) != 2:\n",
    "            raise TypeError(\"data must be a 2D numpy.ndarray\")\n",
    "        if data.shape[1] < 2:\n",
    "            raise ValueError(\"data must contain multiple data points\")\n",
    "        self.mean = np.mean(data.T, axis=0)[np.newaxis, :].T\n",
    "        self.cov = np.matmul((data.T - self.mean.T).T,\n",
    "                             (data.T - self.mean.T)) / (data.shape[1] - 1)\n",
    "\n",
    "\n",
    "    def pdf(self, x):\n",
    "        \"\"\"Calcluates the PDF at a data point:\n",
    "        Args:\n",
    "            x (np.ndarray): shape of (d, 1) containing the data point\n",
    "            whose PDF should be calculated\n",
    "            d is the number of dimensions of the Multinomial instance\"\"\"\n",
    "        d = self.cov.shape[0]\n",
    "        if type(x) is not np.ndarray:\n",
    "            raise TypeError(\"x must be a numpy.ndarray\")\n",
    "        if len(x.shape) != 2 or x.shape[1] != 1 or x.shape[0] != d:\n",
    "            raise ValueError(\"x must have the shape ({}, 1)\".format(d))\n",
    "        x_m = x - self.mean\n",
    "        Px = 1 / np.sqrt(((2 * np.pi) ** d) * np.linalg.det(self.cov))\n",
    "        Px *= np.exp(-0.5 * np.matmul(np.matmul((x_m).T,\n",
    "                                                np.linalg.inv(self.cov)),\n",
    "                                      (x_m)))\n",
    "        return Px[0][0]"
   ]
  },
  {
   "cell_type": "code",
   "execution_count": 109,
   "metadata": {},
   "outputs": [
    {
     "name": "stdout",
     "output_type": "stream",
     "text": [
      "[[12.04341828]\n",
      " [29.92870885]\n",
      " [10.00515808]]\n",
      "[[ 36.2007391  -29.79405239  15.37992641]\n",
      " [-29.79405239  97.77730626 -20.67970134]\n",
      " [ 15.37992641 -20.67970134  24.93956823]]\n"
     ]
    }
   ],
   "source": [
    "np.random.seed(0)\n",
    "data = np.random.multivariate_normal([12, 30, 10], [[36, -30, 15], [-30, 100, -20], [15, -20, 25]], 10000).T\n",
    "mn = MultiNormal(data)\n",
    "print(mn.mean)\n",
    "print(mn.cov)"
   ]
  },
  {
   "cell_type": "code",
   "execution_count": 110,
   "metadata": {},
   "outputs": [
    {
     "name": "stdout",
     "output_type": "stream",
     "text": [
      "[[ 8.20311936]\n",
      " [32.84231319]\n",
      " [ 9.67254478]]\n",
      "0.0002293023620214375\n"
     ]
    }
   ],
   "source": [
    "np.random.seed(0)\n",
    "data = np.random.multivariate_normal([12, 30, 10], [[36, -30, 15], [-30, 100, -20], [15, -20, 25]], 10000).T\n",
    "mn = MultiNormal(data)\n",
    "x = np.random.multivariate_normal([12, 30, 10], [[36, -30, 15], [-30, 100, -20], [15, -20, 25]], 1).T\n",
    "print(x)\n",
    "print(mn.pdf(x))"
   ]
  },
  {
   "cell_type": "code",
   "execution_count": 113,
   "metadata": {},
   "outputs": [
    {
     "name": "stdout",
     "output_type": "stream",
     "text": [
      "x must have the shape (3, 1)\n",
      "x must have the shape (3, 1)\n"
     ]
    }
   ],
   "source": [
    "np.random.seed(5)\n",
    "X = np.random.multivariate_normal([5, -4, 2], [[6, -3, 5], [-3, 10, -2], [5, -2, 5]], 10000).T\n",
    "mn = MultiNormal(X)\n",
    "try:\n",
    "    mn.pdf(np.array([[1], [2], [3], [4]]))\n",
    "except ValueError as e:\n",
    "    print(str(e))\n",
    "try:\n",
    "    mn.pdf(np.array([[1, 1], [2, 2], [3, 3]]))\n",
    "except ValueError as e:\n",
    "    print(str(e))"
   ]
  }
 ],
 "metadata": {
  "kernelspec": {
   "display_name": "Python 3",
   "language": "python",
   "name": "python3"
  },
  "language_info": {
   "codemirror_mode": {
    "name": "ipython",
    "version": 3
   },
   "file_extension": ".py",
   "mimetype": "text/x-python",
   "name": "python",
   "nbconvert_exporter": "python",
   "pygments_lexer": "ipython3",
   "version": "3.8.10"
  },
  "orig_nbformat": 4
 },
 "nbformat": 4,
 "nbformat_minor": 2
}
