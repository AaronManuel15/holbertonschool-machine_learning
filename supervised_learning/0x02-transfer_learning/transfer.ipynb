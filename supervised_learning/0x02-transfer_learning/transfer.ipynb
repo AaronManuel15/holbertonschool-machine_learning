{
 "cells": [
  {
   "cell_type": "code",
   "execution_count": 16,
   "metadata": {},
   "outputs": [],
   "source": [
    "\"\"\"Task 0: Transfer Knowledge\"\"\"\n",
    "import tensorflow.keras as K\n",
    "import tensorflow as tf\n",
    "\n",
    "(X_train, Y_train), (X_test, Y_test) = K.datasets.cifar10.load_data()\n",
    "\n",
    "\n",
    "def preprocess_data(X, Y):\n",
    "    \"\"\"Pre-processes the data for the model\n",
    "    Args:\n",
    "        X: numpy.ndarray of shape (m, 32, 32, 3) containing the CIFAR 10 data,\n",
    "            where m is the number of data points\n",
    "        Y: numpy.ndarray of shape (m,) containing the CIFAR 10 labels for X\n",
    "    Returns:\n",
    "        X_p: preprocessed X\n",
    "        Y_p: preprocessed Y\n",
    "    \"\"\"\n",
    "    X_p = K.applications.efficientnet_v2.preprocess_input(X)\n",
    "    Y_p = K.utils.to_categorical(Y, 10)\n",
    "    return X_p, Y_p"
   ]
  },
  {
   "cell_type": "code",
   "execution_count": 17,
   "metadata": {},
   "outputs": [
    {
     "name": "stdout",
     "output_type": "stream",
     "text": [
      "X_train shape: (50000, 32, 32, 3)\n",
      "Y_train shape: (50000, 1)\n",
      "X_test shape: (10000, 32, 32, 3)\n",
      "Y_test shape: (10000, 1)\n",
      "Epoch 1/5\n",
      "1563/1563 [==============================] - 1145s 729ms/step - loss: 2.2233 - accuracy: 0.8519 - val_loss: 2.0957 - val_accuracy: 0.8921\n",
      "Epoch 2/5\n",
      "1563/1563 [==============================] - 1219s 780ms/step - loss: 1.3089 - accuracy: 0.9238 - val_loss: 2.7791 - val_accuracy: 0.8910\n",
      "Epoch 3/5\n",
      "1563/1563 [==============================] - 1243s 795ms/step - loss: 1.0281 - accuracy: 0.9430 - val_loss: 2.8170 - val_accuracy: 0.9012\n",
      "Epoch 4/5\n",
      "1563/1563 [==============================] - 1137s 728ms/step - loss: 0.8901 - accuracy: 0.9537 - val_loss: 3.5423 - val_accuracy: 0.8976\n",
      "Epoch 5/5\n",
      "1563/1563 [==============================] - 1091s 698ms/step - loss: 0.7913 - accuracy: 0.9601 - val_loss: 3.1991 - val_accuracy: 0.9077\n"
     ]
    }
   ],
   "source": [
    "MODEL_PATH = 'cifar10.h5'\n",
    "\n",
    "print('X_train shape:', X_train.shape)\n",
    "print('Y_train shape:', Y_train.shape)\n",
    "print('X_test shape:', X_test.shape)\n",
    "print('Y_test shape:', Y_test.shape)\n",
    "\n",
    "X_train, Y_train = preprocess_data(X_train, Y_train)\n",
    "X_test, Y_test = preprocess_data(X_test, Y_test)\n",
    "\n",
    "inputs = K.Input(shape=(32, 32, 3))\n",
    "upscale = K.layers.experimental.preprocessing.Resizing(244, 224)(inputs)\n",
    "base_model = K.applications.EfficientNetV2B0(include_top=False,\n",
    "                                             weights='imagenet',\n",
    "                                             input_tensor=upscale,\n",
    "                                             input_shape=(244, 224, 3))\n",
    "base_model.trainable = False\n",
    "out = base_model.output\n",
    "out = K.layers.Flatten()(out)\n",
    "out = K.layers.Dense(10, activation='softmax')(out)\n",
    "fullmodel = K.models.Model(inputs=inputs, outputs=out)\n",
    "fullmodel.compile(optimizer='adam',\n",
    "                  loss='categorical_crossentropy',\n",
    "                  metrics=['accuracy'])\n",
    "fullmodel.fit(X_train, Y_train, batch_size=32, epochs=5,\n",
    "              validation_data=(X_test, Y_test))\n",
    "fullmodel.save(MODEL_PATH)"
   ]
  },
  {
   "cell_type": "code",
   "execution_count": null,
   "metadata": {},
   "outputs": [],
   "source": [
    "\"\"\"Task 0: Main file\"\"\"\n",
    "\n",
    "K.learning_phase = K.backend.learning_phase \n",
    "\n",
    "X_p, Y_p = preprocess_data(X_test, Y_test)\n",
    "\n",
    "load_model = K.models.load_model('cifar10.h5')\n",
    "load_model.evaluate(X_p, Y_p, batch_size=128, verbose=1)"
   ]
  }
 ],
 "metadata": {
  "kernelspec": {
   "display_name": "Python 3",
   "language": "python",
   "name": "python3"
  },
  "language_info": {
   "codemirror_mode": {
    "name": "ipython",
    "version": 3
   },
   "file_extension": ".py",
   "mimetype": "text/x-python",
   "name": "python",
   "nbconvert_exporter": "python",
   "pygments_lexer": "ipython3",
   "version": "3.8.10"
  },
  "orig_nbformat": 4,
  "vscode": {
   "interpreter": {
    "hash": "916dbcbb3f70747c44a77c7bcd40155683ae19c65e1c03b4aa3499c5328201f1"
   }
  }
 },
 "nbformat": 4,
 "nbformat_minor": 2
}
