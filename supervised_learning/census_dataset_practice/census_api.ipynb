{
 "cells": [
  {
   "cell_type": "markdown",
   "metadata": {},
   "source": [
    "## CENSUS DATABASE BUILDING"
   ]
  },
  {
   "cell_type": "code",
   "execution_count": 4,
   "metadata": {},
   "outputs": [],
   "source": [
    "# Import modules\n",
    "import matplotlib.pyplot as plt\n",
    "import pandas as pd\n",
    "import geopandas as gpd\n",
    "from census import Census\n",
    "from us import states\n",
    "import os\n",
    "import sqlite3"
   ]
  },
  {
   "cell_type": "code",
   "execution_count": 5,
   "metadata": {},
   "outputs": [],
   "source": [
    "# KEY FROM CENSUS.GOV\n",
    "API_KEY = \"1e9a2da81c7d2b84b1f2678cf9ca68841444e5d6\"\n",
    "\n",
    "c = Census(API_KEY)"
   ]
  },
  {
   "cell_type": "code",
   "execution_count": 6,
   "metadata": {},
   "outputs": [],
   "source": [
    "ok_census = c.acs5.state_county_tract(fields = ('NAME', 'C17002_001E', 'C17002_002E', 'C17002_003E', 'B01003_001E'),\n",
    "                                      state_fips = states.OK.fips,\n",
    "                                      county_fips = \"*\",\n",
    "                                      tract = \"*\",\n",
    "                                      year = 2017)"
   ]
  },
  {
   "cell_type": "code",
   "execution_count": 7,
   "metadata": {},
   "outputs": [
    {
     "name": "stdout",
     "output_type": "stream",
     "text": [
      "                                           NAME  C17002_001E  C17002_002E  \\\n",
      "0  Census Tract 1022, Oklahoma County, Oklahoma       2664.0        355.0   \n",
      "1  Census Tract 1027, Oklahoma County, Oklahoma         53.0         12.0   \n",
      "2  Census Tract 1042, Oklahoma County, Oklahoma       2262.0        298.0   \n",
      "3  Census Tract 1045, Oklahoma County, Oklahoma       4177.0        322.0   \n",
      "4  Census Tract 1062, Oklahoma County, Oklahoma       1637.0        133.0   \n",
      "\n",
      "   C17002_003E  B01003_001E state county   tract  \n",
      "0        750.0       2708.0    40    109  102200  \n",
      "1          8.0         99.0    40    109  102700  \n",
      "2        225.0       2262.0    40    109  104200  \n",
      "3       1010.0       4187.0    40    109  104500  \n",
      "4        119.0       1641.0    40    109  106200  \n",
      "Shape:  (1046, 8)\n"
     ]
    }
   ],
   "source": [
    "ok_df = pd.DataFrame(ok_census)\n",
    "\n",
    "print(ok_df.head())\n",
    "print(\"Shape: \", ok_df.shape)"
   ]
  }
 ],
 "metadata": {
  "kernelspec": {
   "display_name": "Python 3",
   "language": "python",
   "name": "python3"
  },
  "language_info": {
   "codemirror_mode": {
    "name": "ipython",
    "version": 3
   },
   "file_extension": ".py",
   "mimetype": "text/x-python",
   "name": "python",
   "nbconvert_exporter": "python",
   "pygments_lexer": "ipython3",
   "version": "3.8.10"
  },
  "orig_nbformat": 4
 },
 "nbformat": 4,
 "nbformat_minor": 2
}
