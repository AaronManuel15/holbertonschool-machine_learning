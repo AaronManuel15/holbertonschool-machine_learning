{
 "cells": [
  {
   "cell_type": "code",
   "execution_count": 46,
   "metadata": {},
   "outputs": [],
   "source": [
    "\"\"\"Task 0: Question Answering\"\"\"\n",
    "import os\n",
    "import glob\n",
    "import numpy as np\n",
    "import tensorflow as tf\n",
    "import tensorflow_hub as hub\n",
    "from transformers import BertTokenizer\n",
    "from sklearn.feature_extraction.text import TfidfVectorizer\n",
    "from sklearn.metrics.pairwise import cosine_similarity"
   ]
  },
  {
   "cell_type": "code",
   "execution_count": 12,
   "metadata": {},
   "outputs": [],
   "source": [
    "def question_answer(question, reference):\n",
    "    \"\"\"Finds a snippet of text within a reference document to\n",
    "    answer a question.\n",
    "    Args:\n",
    "        question (str): Contains the question to answer.\n",
    "        reference (str): Contains the reference document from which to find\n",
    "                         the answer.\n",
    "    Returns:\n",
    "        (str): Contains the answer.\"\"\"\n",
    "\n",
    "    tkn = BertTokenizer.from_pretrained(('bert-large-uncased-whole'\n",
    "                                        '-word-masking-finetuned-squad'))\n",
    "    model = hub.load('https://tfhub.dev/see--/bert-uncased-tf2-qa/1')\n",
    "    \n",
    "    q_tokens = tkn.tokenize(question)\n",
    "    ref_tokens = tkn.tokenize(reference)\n",
    "    tokens = ['[CLS]'] + q_tokens + ['[SEP]'] + ref_tokens + ['[SEP]']\n",
    "    input_word_ids = tkn.convert_tokens_to_ids(tokens)\n",
    "    input_mask = [1] * len(input_word_ids)\n",
    "    input_type_ids = ([0] * (1 + len(q_tokens) + 1) + [1] * (len(ref_tokens) + 1))\n",
    "    \n",
    "    input_word_ids, input_mask, input_type_ids = map(lambda t: tf.expand_dims(\n",
    "        tf.convert_to_tensor(t, dtype=tf.int32), 0), (input_word_ids, input_mask, input_type_ids))\n",
    "    outputs = model([input_word_ids, input_mask, input_type_ids])\n",
    "    \n",
    "    short_start = tf.argmax(outputs[0][0][1:]) + 1\n",
    "    short_end = tf.argmax(outputs[1][0][1:]) + 1\n",
    "    answer_tokens = tokens[short_start: short_end + 1]\n",
    "    answer = tkn.convert_tokens_to_string(answer_tokens)\n",
    "\n",
    "    if not answer:\n",
    "        return None\n",
    "    return answer"
   ]
  },
  {
   "cell_type": "code",
   "execution_count": 15,
   "metadata": {},
   "outputs": [
    {
     "name": "stderr",
     "output_type": "stream",
     "text": [
      "2023-08-21 13:35:33.740172: E tensorflow/core/framework/node_def_util.cc:675] NodeDef mentions attribute epsilon which is not in the op definition: Op<name=_MklFusedBatchMatMulV2; signature=x:T, y:T, args:num_args*T -> output:T; attr=T:type,allowed=[DT_BFLOAT16, DT_FLOAT]; attr=adj_x:bool,default=false; attr=adj_y:bool,default=false; attr=num_args:int,min=0; attr=fused_ops:list(string),default=[]> This may be expected if your graph generating binary is newer  than this binary. Unknown attributes will be ignored. NodeDef: {{node encoder/layer_._0/attention/self/add}}\n"
     ]
    },
    {
     "name": "stdout",
     "output_type": "stream",
     "text": [
      "None\n"
     ]
    }
   ],
   "source": [
    "with open('ZendeskArticles/PeerLearningDays.md') as f:\n",
    "    reference = f.read()\n",
    "\n",
    "print(question_answer('What are Mock Interviews?', reference))"
   ]
  },
  {
   "cell_type": "code",
   "execution_count": 20,
   "metadata": {},
   "outputs": [],
   "source": [
    "def answer_loop(reference):\n",
    "    \"\"\"Answers questions from a reference text.\n",
    "    Args:\n",
    "        reference (str): Contains the reference document from which to find\n",
    "                         the answer.\n",
    "    \"\"\"\n",
    "    while(True):\n",
    "        question = input('Q: ')\n",
    "        if question.lower() in ['exit', 'quit', 'goodbye', 'bye']:\n",
    "            print('A: Goodbye')\n",
    "            break\n",
    "        else:\n",
    "            answer = question_answer(question, reference)\n",
    "            confused = 'Sorry, I do not understand your question.'\n",
    "            print('A: {}'.format(answer if answer else confused))"
   ]
  },
  {
   "cell_type": "code",
   "execution_count": 21,
   "metadata": {},
   "outputs": [
    {
     "name": "stderr",
     "output_type": "stream",
     "text": [
      "2023-08-21 14:37:33.758503: E tensorflow/core/framework/node_def_util.cc:675] NodeDef mentions attribute epsilon which is not in the op definition: Op<name=_MklFusedBatchMatMulV2; signature=x:T, y:T, args:num_args*T -> output:T; attr=T:type,allowed=[DT_BFLOAT16, DT_FLOAT]; attr=adj_x:bool,default=false; attr=adj_y:bool,default=false; attr=num_args:int,min=0; attr=fused_ops:list(string),default=[]> This may be expected if your graph generating binary is newer  than this binary. Unknown attributes will be ignored. NodeDef: {{node encoder/layer_._0/attention/self/add}}\n"
     ]
    },
    {
     "name": "stdout",
     "output_type": "stream",
     "text": [
      "A: Sorry, I do not understand your question.\n",
      "A: Goodbye\n"
     ]
    }
   ],
   "source": [
    "with open('ZendeskArticles/PeerLearningDays.md') as f:\n",
    "    reference = f.read()\n",
    "\n",
    "answer_loop(reference)"
   ]
  },
  {
   "cell_type": "code",
   "execution_count": 47,
   "metadata": {},
   "outputs": [],
   "source": [
    "def load_corpus(corpus_path):\n",
    "    \"\"\"Loads the corpus into memory\"\"\"\n",
    "    documents = []\n",
    "    for filename in os.listdir(corpus_path):\n",
    "        with open(os.path.join(corpus_path, filename), \"r\", encoding=\"utf-8\") as f:\n",
    "            content = f.read()\n",
    "        documents.append(content)\n",
    "    return documents\n",
    "\n",
    "\n",
    "def semantic_search(corpus_path, sentence):\n",
    "    \"\"\"\n",
    "    Performs semantic search on a corpus of documents.\n",
    "    Returns: the reference text of the best-matching document.\n",
    "    \"\"\"\n",
    "    \n",
    "    model_url = \"https://tfhub.dev/google/universal-sentence-encoder-large/5\"\n",
    "    model = hub.load(model_url)\n",
    "    \n",
    "    documents = load_corpus(corpus_path)\n",
    "    sentence_embeddings = model([sentence])[0]\n",
    "    corpus_embeddings = model(documents)\n",
    "    similarity_scores = cosine_similarity([sentence_embeddings],\n",
    "                                          corpus_embeddings)[0]\n",
    "    idx = np.argmax(similarity_scores)\n",
    "    return documents[idx]"
   ]
  },
  {
   "cell_type": "code",
   "execution_count": 48,
   "metadata": {},
   "outputs": [
    {
     "name": "stdout",
     "output_type": "stream",
     "text": [
      "PLD Overview\n",
      "Peer Learning Days (PLDs) are a time for you and your peers to ensure that each of you understands the concepts you've encountered in your projects, as well as a time for everyone to collectively grow in technical, professional, and soft skills. During PLD, you will collaboratively review prior projects with a group of cohort peers.\n",
      "PLD Basics\n",
      "PLDs are mandatory on-site days from 9:00 AM to 3:00 PM. If you cannot be present or on time, you must use a PTO. \n",
      "No laptops, tablets, or screens are allowed until all tasks have been whiteboarded and understood by the entirety of your group. This time is for whiteboarding, dialogue, and active peer collaboration. After this, you may return to computers with each other to pair or group program. \n",
      "Peer Learning Days are not about sharing solutions. This doesn't empower peers with the ability to solve problems themselves! Peer learning is when you share your thought process, whether through conversation, whiteboarding, debugging, or live coding. \n",
      "When a peer has a question, rather than offering the solution, ask the following:\n",
      "\"How did you come to that conclusion?\"\n",
      "\"What have you tried?\"\n",
      "\"Did the man page give you a lead?\"\n",
      "\"Did you think about this concept?\"\n",
      "Modeling this form of thinking for one another is invaluable and will strengthen your entire cohort.\n",
      "Your ability to articulate your knowledge is a crucial skill and will be required to succeed during technical interviews and through your career. \n",
      "\n"
     ]
    }
   ],
   "source": [
    "print(semantic_search('ZendeskArticles', 'When are PLDs?'))"
   ]
  },
  {
   "cell_type": "code",
   "execution_count": 49,
   "metadata": {},
   "outputs": [],
   "source": [
    "def question_answer_semantic(corpus_path):\n",
    "    \"\"\"answers questions from multiple reference texts\"\"\"\n",
    "    while(True):\n",
    "        question = input('Q: ')\n",
    "        if question.lower() in ['exit', 'quit', 'goodbye', 'bye']:\n",
    "            print('A: Goodbye')\n",
    "            break\n",
    "        else:\n",
    "            reference = semantic_search(corpus_path, question)\n",
    "            answer = question_answer(question, reference)\n",
    "            confused = 'Sorry, I do not understand your question.'\n",
    "            print('A: {}'.format(answer if answer else confused))"
   ]
  },
  {
   "cell_type": "code",
   "execution_count": 50,
   "metadata": {},
   "outputs": [
    {
     "name": "stderr",
     "output_type": "stream",
     "text": [
      "2023-08-21 15:31:18.519253: E tensorflow/core/framework/node_def_util.cc:675] NodeDef mentions attribute epsilon which is not in the op definition: Op<name=_MklFusedBatchMatMulV2; signature=x:T, y:T, args:num_args*T -> output:T; attr=T:type,allowed=[DT_BFLOAT16, DT_FLOAT]; attr=adj_x:bool,default=false; attr=adj_y:bool,default=false; attr=num_args:int,min=0; attr=fused_ops:list(string),default=[]> This may be expected if your graph generating binary is newer  than this binary. Unknown attributes will be ignored. NodeDef: {{node encoder/layer_._0/attention/self/add}}\n"
     ]
    },
    {
     "name": "stdout",
     "output_type": "stream",
     "text": [
      "A: on - site days from 9 : 00 am to 3 : 00 pm\n"
     ]
    },
    {
     "name": "stderr",
     "output_type": "stream",
     "text": [
      "2023-08-21 15:32:29.971167: E tensorflow/core/framework/node_def_util.cc:675] NodeDef mentions attribute epsilon which is not in the op definition: Op<name=_MklFusedBatchMatMulV2; signature=x:T, y:T, args:num_args*T -> output:T; attr=T:type,allowed=[DT_BFLOAT16, DT_FLOAT]; attr=adj_x:bool,default=false; attr=adj_y:bool,default=false; attr=num_args:int,min=0; attr=fused_ops:list(string),default=[]> This may be expected if your graph generating binary is newer  than this binary. Unknown attributes will be ignored. NodeDef: {{node encoder/layer_._0/attention/self/add}}\n"
     ]
    },
    {
     "name": "stdout",
     "output_type": "stream",
     "text": [
      "A: help you train for technical interviews\n"
     ]
    },
    {
     "name": "stderr",
     "output_type": "stream",
     "text": [
      "2023-08-21 15:33:43.016815: E tensorflow/core/framework/node_def_util.cc:675] NodeDef mentions attribute epsilon which is not in the op definition: Op<name=_MklFusedBatchMatMulV2; signature=x:T, y:T, args:num_args*T -> output:T; attr=T:type,allowed=[DT_BFLOAT16, DT_FLOAT]; attr=adj_x:bool,default=false; attr=adj_y:bool,default=false; attr=num_args:int,min=0; attr=fused_ops:list(string),default=[]> This may be expected if your graph generating binary is newer  than this binary. Unknown attributes will be ignored. NodeDef: {{node encoder/layer_._0/attention/self/add}}\n"
     ]
    },
    {
     "name": "stdout",
     "output_type": "stream",
     "text": [
      "A: peer learning days\n",
      "A: Goodbye\n"
     ]
    }
   ],
   "source": [
    "question_answer_semantic('ZendeskArticles')"
   ]
  }
 ],
 "metadata": {
  "kernelspec": {
   "display_name": "Python 3",
   "language": "python",
   "name": "python3"
  },
  "language_info": {
   "codemirror_mode": {
    "name": "ipython",
    "version": 3
   },
   "file_extension": ".py",
   "mimetype": "text/x-python",
   "name": "python",
   "nbconvert_exporter": "python",
   "pygments_lexer": "ipython3",
   "version": "3.8.10"
  },
  "orig_nbformat": 4
 },
 "nbformat": 4,
 "nbformat_minor": 2
}
