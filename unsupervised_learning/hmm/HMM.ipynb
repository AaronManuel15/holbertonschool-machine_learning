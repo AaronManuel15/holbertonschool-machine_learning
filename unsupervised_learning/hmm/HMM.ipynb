{
 "cells": [
  {
   "cell_type": "code",
   "execution_count": 2,
   "metadata": {},
   "outputs": [],
   "source": [
    "import numpy as np"
   ]
  },
  {
   "attachments": {},
   "cell_type": "markdown",
   "metadata": {},
   "source": [
    "### Task 0: Markov Chain"
   ]
  },
  {
   "cell_type": "code",
   "execution_count": 11,
   "metadata": {},
   "outputs": [],
   "source": [
    "\"\"\"Task 0: Markov Chain\"\"\"\n",
    "\n",
    "\n",
    "def markov_chain(P, s, t=1):\n",
    "    \"\"\"Determines the probability of a markov chain being in a particular state\n",
    "        after a specified number of steps\n",
    "    Args:\n",
    "        P: is a square 2D numpy.ndarray of shape (n, n) representing the\n",
    "            transition matrix\n",
    "            P[i, j] is the probability of transitioning from state i to state j\n",
    "            n is the number of states in the markov chain\n",
    "        s: is a numpy.ndarray of shape (1, n) representing the probability of\n",
    "            starting in each state\n",
    "        t: is the number of steps that the markov chain has been through\n",
    "    Returns:\n",
    "        a numpy.ndarray of shape (1, n) representing the probability of being\n",
    "        in a specific state after t steps, or None on failure\n",
    "    \"\"\"\n",
    "    for i in range(t):\n",
    "        s = s @ P\n",
    "    return s"
   ]
  },
  {
   "cell_type": "code",
   "execution_count": 12,
   "metadata": {},
   "outputs": [
    {
     "name": "stdout",
     "output_type": "stream",
     "text": [
      "[[0.2494929  0.26335362 0.23394185 0.25321163]]\n"
     ]
    }
   ],
   "source": [
    "P = np.array([[0.25, 0.2, 0.25, 0.3], [0.2, 0.3, 0.2, 0.3], [0.25, 0.25, 0.4, 0.1], [0.3, 0.3, 0.1, 0.3]])\n",
    "s = np.array([[1, 0, 0, 0]])\n",
    "print(markov_chain(P, s, 300))"
   ]
  }
 ],
 "metadata": {
  "kernelspec": {
   "display_name": "Python 3",
   "language": "python",
   "name": "python3"
  },
  "language_info": {
   "codemirror_mode": {
    "name": "ipython",
    "version": 3
   },
   "file_extension": ".py",
   "mimetype": "text/x-python",
   "name": "python",
   "nbconvert_exporter": "python",
   "pygments_lexer": "ipython3",
   "version": "3.8.10"
  },
  "orig_nbformat": 4
 },
 "nbformat": 4,
 "nbformat_minor": 2
}
