{
 "cells": [
  {
   "cell_type": "code",
   "execution_count": 4,
   "metadata": {},
   "outputs": [],
   "source": [
    "import gym\n",
    "import numpy as np\n",
    "import matplotlib.pyplot as plt\n",
    "import time\n",
    "from tqdm.notebook import tqdm"
   ]
  },
  {
   "cell_type": "code",
   "execution_count": 5,
   "metadata": {},
   "outputs": [],
   "source": [
    "\n",
    "def policy(matrix, weight):\n",
    "    \"\"\"Computes a policy using the given weight matrix.\n",
    "    Args:\n",
    "        matrix: a state matrix\n",
    "        weight: a weight matrix\n",
    "    Returns:\n",
    "        the policy\"\"\"\n",
    "\n",
    "    exponentiated_matrix = np.exp(matrix.dot(weight))\n",
    "    policy_values = exponentiated_matrix / \\\n",
    "        np.sum(exponentiated_matrix, axis=1, keepdims=True)\n",
    "\n",
    "    return policy_values"
   ]
  },
  {
   "cell_type": "code",
   "execution_count": 3,
   "metadata": {},
   "outputs": [
    {
     "name": "stdout",
     "output_type": "stream",
     "text": [
      "[[0.50351642 0.49648358]]\n"
     ]
    }
   ],
   "source": [
    "weight = np.ndarray((4, 2), buffer=np.array([\n",
    "    [4.17022005e-01, 7.20324493e-01],\n",
    "    [1.14374817e-04, 3.02332573e-01],\n",
    "    [1.46755891e-01, 9.23385948e-02],\n",
    "    [1.86260211e-01, 3.45560727e-01]\n",
    "]))\n",
    "state = np.ndarray((1, 4), buffer=np.array([\n",
    "    [-0.04428214,  0.01636746,  0.01196594, -0.03095031]\n",
    "]))\n",
    "\n",
    "res = policy(state, weight)\n",
    "print(res)"
   ]
  },
  {
   "cell_type": "code",
   "execution_count": 6,
   "metadata": {},
   "outputs": [],
   "source": [
    "\"\"\"Task 1: Compute the Monte-Carlo Policy Gradient\"\"\"\n",
    "\n",
    "\n",
    "def policy_gradient(state, weight):\n",
    "    \"\"\"computes the Monte-Carlo policy gradient based on a\n",
    "    state and a weight matrix.\n",
    "    Args:\n",
    "        state: matrix representing the current observation of the environment\n",
    "        weight: matrix of random weight\n",
    "    Returns:\n",
    "        the action and the gradient (in this order)\"\"\"\n",
    "\n",
    "    # get action prob. dist. from policy\n",
    "    actions = policy(state, weight)\n",
    "    # get action based on prob. dist.\n",
    "    action = np.random.choice(len(actions[0]), p=actions[0])\n",
    "    # reshaping to fit softmax\n",
    "    s = actions.reshape(-1, 1)\n",
    "    # apply softmax function to s and access value at action\n",
    "    softmax = (np.diagflat(s) - np.dot(s, s.T))[action, :]\n",
    "    # calculate the derivative of log as softmax / policy at action\n",
    "    dlog = softmax / actions[0, action]\n",
    "    # find gradient from input state matrix using dlog\n",
    "    gradient = state.T.dot(dlog[None, :])\n",
    "    # return action and the policy gradient\n",
    "    return action, gradient"
   ]
  },
  {
   "cell_type": "code",
   "execution_count": 5,
   "metadata": {},
   "outputs": [
    {
     "name": "stdout",
     "output_type": "stream",
     "text": [
      "[[4.17022005e-01 7.20324493e-01]\n",
      " [1.14374817e-04 3.02332573e-01]\n",
      " [1.46755891e-01 9.23385948e-02]\n",
      " [1.86260211e-01 3.45560727e-01]]\n",
      "[[-0.03926622 -0.02868273 -0.02334112  0.00250083]]\n",
      "0\n",
      "[[-0.01944749  0.01944749]\n",
      " [-0.01420578  0.01420578]\n",
      " [-0.01156022  0.01156022]\n",
      " [ 0.00123859 -0.00123859]]\n"
     ]
    },
    {
     "name": "stderr",
     "output_type": "stream",
     "text": [
      "/home/ediddev/anaconda3/lib/python3.11/site-packages/gym/core.py:317: DeprecationWarning: \u001b[33mWARN: Initializing wrapper in old step API which returns one bool instead of two. It is recommended to set `new_step_api=True` to use new step API. This will be the default behaviour in future.\u001b[0m\n",
      "  deprecation(\n",
      "/home/ediddev/anaconda3/lib/python3.11/site-packages/gym/wrappers/step_api_compatibility.py:39: DeprecationWarning: \u001b[33mWARN: Initializing environment in old step API which returns one bool instead of two. It is recommended to set `new_step_api=True` to use new step API. This will be the default behaviour in future.\u001b[0m\n",
      "  deprecation(\n"
     ]
    }
   ],
   "source": [
    "env = gym.make('CartPole-v1')\n",
    "np.random.seed(1)\n",
    "\n",
    "weight = np.random.rand(4, 2)\n",
    "state = env.reset()[None, :]\n",
    "print(weight)\n",
    "# state = np.array(state[0]).reshape(1, -1)\n",
    "# state = np.array([[0.04228739, -0.04522399,  0.01190918, -0.03496226]])\n",
    "print(state)\n",
    "\n",
    "action, grad = policy_gradient(state, weight)\n",
    "print(action)\n",
    "print(grad)\n",
    "\n",
    "env.close()"
   ]
  },
  {
   "cell_type": "code",
   "execution_count": 48,
   "metadata": {},
   "outputs": [],
   "source": [
    "def train(env, nb_episodes, alpha=0.00005, gamma=0.99):\n",
    "    \"\"\"Performs full Training using policy gradient.\n",
    "    Args:\n",
    "        env: initial environment\n",
    "        nb_episodes: number of episodes used for training\n",
    "        alpha: the learning rate\n",
    "        gamma: the discount factor\n",
    "    Returns:\n",
    "        all_scores: all values of the scores (sum of rewards during one loop)\n",
    "    \"\"\"\n",
    "\n",
    "    # initialize weight randomly based on given environment\n",
    "    n_obs = env.observation_space.shape[0]\n",
    "    n_actions = env.action_space.n\n",
    "    weight = np.random.rand(n_obs, n_actions)\n",
    "    # to track scores of episodes\n",
    "    all_scores = []\n",
    "    # iterate over all episodes\n",
    "    for episode in range(nb_episodes):\n",
    "        state = env.reset()[None, :]\n",
    "        gradients = []\n",
    "        rewards = []\n",
    "        sum_rewards = 0\n",
    "        while True:\n",
    "            # get action and gradient from policy_gradient function\n",
    "            action, gradient = policy_gradient(state, weight)\n",
    "            # use action to determine next state, reward, done\n",
    "            next_state, reward, done, _ = env.step(action)\n",
    "            # append gradient and reward to repective lists\n",
    "            gradients.append(gradient)\n",
    "            rewards.append(reward)\n",
    "            # add the reward to the episode score\n",
    "            sum_rewards += reward\n",
    "            # if done, breaks the loop\n",
    "            if done:\n",
    "                break\n",
    "            # else the state is reset to the next state\n",
    "            state = next_state[None, :]\n",
    "\n",
    "        # for each step in the episode, compute the discounted sum of rewards\n",
    "        # and update the weights accordingly\n",
    "        for i in range(len(gradients)):\n",
    "            weight += (alpha * gradients[i]) * \\\n",
    "                (gamma ** np.array(rewards[i:]) * np.array(rewards[i:])).sum()\n",
    "\n",
    "        # append the episode's score to all_scores\n",
    "        all_scores.append(sum_rewards)\n",
    "\n",
    "        if episode % 500 == 0:\n",
    "            print(f\"Episode: {episode} --- Reward: {sum_rewards}\")\n",
    "\n",
    "    # return all values of scores\n",
    "    return all_scores"
   ]
  },
  {
   "cell_type": "code",
   "execution_count": 49,
   "metadata": {},
   "outputs": [
    {
     "name": "stdout",
     "output_type": "stream",
     "text": [
      "Episode: 0 --- Reward: 16.0\n",
      "Episode: 500 --- Reward: 48.0\n",
      "Episode: 1000 --- Reward: 78.0\n",
      "Episode: 1500 --- Reward: 95.0\n",
      "Episode: 2000 --- Reward: 227.0\n",
      "Episode: 2500 --- Reward: 367.0\n",
      "Episode: 3000 --- Reward: 500.0\n",
      "Episode: 3500 --- Reward: 500.0\n",
      "Episode: 4000 --- Reward: 500.0\n",
      "Episode: 4500 --- Reward: 500.0\n",
      "Episode: 5000 --- Reward: 500.0\n",
      "Episode: 5500 --- Reward: 394.0\n",
      "Episode: 6000 --- Reward: 433.0\n",
      "Episode: 6500 --- Reward: 500.0\n",
      "Episode: 7000 --- Reward: 500.0\n",
      "Episode: 7500 --- Reward: 500.0\n",
      "Episode: 8000 --- Reward: 500.0\n",
      "Episode: 8500 --- Reward: 500.0\n",
      "Episode: 9000 --- Reward: 500.0\n",
      "Episode: 9500 --- Reward: 500.0\n"
     ]
    },
    {
     "data": {
      "image/png": "[encoded data removed]",
      "text/plain": [
       "<Figure size 640x480 with 1 Axes>"
      ]
     },
     "metadata": {},
     "output_type": "display_data"
    }
   ],
   "source": [
    "env = gym.make('CartPole-v1')\n",
    "\n",
    "scores = train(env, 10000)\n",
    "\n",
    "plt.plot(np.arange(len(scores)), scores)\n",
    "plt.show()\n",
    "env.close()"
   ]
  },
  {
   "cell_type": "code",
   "execution_count": 58,
   "metadata": {},
   "outputs": [
    {
     "name": "stdout",
     "output_type": "stream",
     "text": [
      "                  0\n",
      "count  10000.000000\n",
      "mean     387.575700\n",
      "std      179.749887\n",
      "min        9.000000\n",
      "25%      300.000000\n",
      "50%      500.000000\n",
      "75%      500.000000\n",
      "max      500.000000\n",
      "\n",
      "500.0    6429\n",
      "43.0       44\n",
      "39.0       41\n",
      "31.0       38\n",
      "27.0       37\n",
      "         ... \n",
      "331.0       1\n",
      "333.0       1\n",
      "381.0       1\n",
      "412.0       1\n",
      "254.0       1\n",
      "Length: 483, dtype: int64\n"
     ]
    }
   ],
   "source": [
    "import pandas as pd\n",
    "df = pd.DataFrame(scores)\n",
    "print(df.describe())\n",
    "print()\n",
    "print(df.value_counts())"
   ]
  },
  {
   "cell_type": "code",
   "execution_count": 13,
   "metadata": {},
   "outputs": [],
   "source": [
    "def train1(env, nb_episodes, alpha=0.00005, gamma=0.99, show_result=True):\n",
    "    \"\"\"Performs full Training using policy gradient.\n",
    "    Args:\n",
    "        env: initial environment\n",
    "        nb_episodes: number of episodes used for training\n",
    "        alpha: the learning rate\n",
    "        gamma: the discount factor\n",
    "        show_result: boolean to show result of training every 1000 episodes\n",
    "    Returns:\n",
    "        all_scores: all values of the scores (sum of rewards during one loop)\n",
    "    \"\"\"\n",
    "\n",
    "    # initialize weight randomly based on given environment\n",
    "    n_obs = env.observation_space.shape[0]\n",
    "    n_actions = env.action_space.n\n",
    "    weight = np.random.rand(n_obs, n_actions)\n",
    "    # to track scores of episodes\n",
    "    all_scores = []\n",
    "    # iterate over all episodes\n",
    "    for episode in tqdm(range(nb_episodes)):\n",
    "        state = env.reset()[None, :]\n",
    "        gradients = []\n",
    "        rewards = []\n",
    "        sum_rewards = 0\n",
    "        while True:\n",
    "            # get action and gradient from policy_gradient function\n",
    "            action, gradient = policy_gradient(state, weight)\n",
    "            # use action to determine next state, reward, done\n",
    "            next_state, reward, done, _ = env.step(action)\n",
    "            # append gradient and reward to repective lists\n",
    "            gradients.append(gradient)\n",
    "            rewards.append(reward)\n",
    "            # add the reward to the episode score\n",
    "            sum_rewards += reward\n",
    "            # if done, breaks the loop\n",
    "            if done:\n",
    "                break\n",
    "            # else the state is reset to the next state\n",
    "            state = next_state[None, :]\n",
    "\n",
    "        # for each step in the episode, compute the discounted sum of rewards\n",
    "        # and update the weights accordingly\n",
    "        for i in range(len(gradients)):\n",
    "            weight += (alpha * gradients[i]) * \\\n",
    "                (gamma ** np.array(rewards[i:]) * np.array(rewards[i:])).sum()\n",
    "\n",
    "        # append the episode's score to all_scores\n",
    "        all_scores.append(sum_rewards)\n",
    "\n",
    "        if episode % 500 == 0:\n",
    "            print(f\"Episode: {episode} --- Reward: {sum_rewards}\")\n",
    "        if episode % 1000 == 0 and episode >= 1000:\n",
    "            print(f\"Episode: {episode} --- Reward: {sum_rewards}\")\n",
    "            if show_result:\n",
    "                state = env.reset()[None, :]\n",
    "                while True:\n",
    "                    env.render(mode='human')\n",
    "                    action, _ = policy_gradient(state, weight)\n",
    "                    next_state, reward, done, _ = env.step(action)\n",
    "                    state = next_state[None, :]\n",
    "                    if done:\n",
    "                        break\n",
    "    # return all values of scores\n",
    "    return all_scores"
   ]
  },
  {
   "cell_type": "code",
   "execution_count": 14,
   "metadata": {},
   "outputs": [
    {
     "name": "stderr",
     "output_type": "stream",
     "text": [
      "/home/ediddev/anaconda3/lib/python3.11/site-packages/gym/core.py:317: DeprecationWarning: \u001b[33mWARN: Initializing wrapper in old step API which returns one bool instead of two. It is recommended to set `new_step_api=True` to use new step API. This will be the default behaviour in future.\u001b[0m\n",
      "  deprecation(\n",
      "/home/ediddev/anaconda3/lib/python3.11/site-packages/gym/wrappers/step_api_compatibility.py:39: DeprecationWarning: \u001b[33mWARN: Initializing environment in old step API which returns one bool instead of two. It is recommended to set `new_step_api=True` to use new step API. This will be the default behaviour in future.\u001b[0m\n",
      "  deprecation(\n"
     ]
    },
    {
     "data": {
      "application/vnd.jupyter.widget-view+json": {
       "model_id": "5ebaa9ba4ac84083a0d8976465f16611",
       "version_major": 2,
       "version_minor": 0
      },
      "text/plain": [
       "  0%|          | 0/10000 [00:00<?, ?it/s]"
      ]
     },
     "metadata": {},
     "output_type": "display_data"
    },
    {
     "name": "stderr",
     "output_type": "stream",
     "text": [
      "/home/ediddev/anaconda3/lib/python3.11/site-packages/gym/utils/passive_env_checker.py:241: DeprecationWarning: `np.bool8` is a deprecated alias for `np.bool_`.  (Deprecated NumPy 1.24)\n",
      "  if not isinstance(terminated, (bool, np.bool8)):\n"
     ]
    },
    {
     "name": "stdout",
     "output_type": "stream",
     "text": [
      "Episode: 0 --- Reward: 15.0\n",
      "Episode: 500 --- Reward: 45.0\n",
      "Episode: 1000 --- Reward: 27.0\n",
      "Episode: 1000 --- Reward: 27.0\n"
     ]
    },
    {
     "name": "stderr",
     "output_type": "stream",
     "text": [
      "/home/ediddev/anaconda3/lib/python3.11/site-packages/gym/core.py:43: DeprecationWarning: \u001b[33mWARN: The argument mode in render method is deprecated; use render_mode during environment initialization instead.\n",
      "See here for more information: https://www.gymlibrary.ml/content/api/\u001b[0m\n",
      "  deprecation(\n"
     ]
    },
    {
     "name": "stdout",
     "output_type": "stream",
     "text": [
      "Episode: 1500 --- Reward: 190.0\n",
      "Episode: 2000 --- Reward: 500.0\n",
      "Episode: 2000 --- Reward: 500.0\n",
      "Episode: 2500 --- Reward: 476.0\n",
      "Episode: 3000 --- Reward: 500.0\n",
      "Episode: 3000 --- Reward: 500.0\n",
      "Episode: 3500 --- Reward: 500.0\n",
      "Episode: 4000 --- Reward: 500.0\n",
      "Episode: 4000 --- Reward: 500.0\n",
      "Episode: 4500 --- Reward: 500.0\n",
      "Episode: 5000 --- Reward: 500.0\n",
      "Episode: 5000 --- Reward: 500.0\n",
      "Episode: 5500 --- Reward: 500.0\n",
      "Episode: 6000 --- Reward: 500.0\n",
      "Episode: 6000 --- Reward: 500.0\n",
      "Episode: 6500 --- Reward: 500.0\n",
      "Episode: 7000 --- Reward: 500.0\n",
      "Episode: 7000 --- Reward: 500.0\n",
      "Episode: 7500 --- Reward: 500.0\n",
      "Episode: 8000 --- Reward: 500.0\n",
      "Episode: 8000 --- Reward: 500.0\n",
      "Episode: 8500 --- Reward: 500.0\n",
      "Episode: 9000 --- Reward: 500.0\n",
      "Episode: 9000 --- Reward: 500.0\n",
      "Episode: 9500 --- Reward: 500.0\n"
     ]
    }
   ],
   "source": [
    "env = gym.make('CartPole-v1')\n",
    "\n",
    "scores = train1(env, 10000, 0.000045, 0.98, True)\n",
    "\n",
    "env.close()"
   ]
  },
  {
   "cell_type": "code",
   "execution_count": 8,
   "metadata": {},
   "outputs": [],
   "source": [
    "from tqdm.notebook import tqdm"
   ]
  }
 ],
 "metadata": {
  "kernelspec": {
   "display_name": "base",
   "language": "python",
   "name": "python3"
  },
  "language_info": {
   "codemirror_mode": {
    "name": "ipython",
    "version": 3
   },
   "file_extension": ".py",
   "mimetype": "text/x-python",
   "name": "python",
   "nbconvert_exporter": "python",
   "pygments_lexer": "ipython3",
   "version": "3.11.4"
  },
  "orig_nbformat": 4
 },
 "nbformat": 4,
 "nbformat_minor": 2
}
